{
 "cells": [
  {
   "cell_type": "markdown",
   "id": "1c6d1b95",
   "metadata": {},
   "source": [
    "## 기본 설정 (최초 1회 설정)\n",
    "\n",
    "```bash\n",
    "# W&B 설치\n",
    "pip install wandb\n",
    "\n",
    "# 로그인 (토큰 입력 필요)\n",
    "wandb login\n"
   ]
  },
  {
   "cell_type": "code",
   "execution_count": 1,
   "id": "c6df2fc2",
   "metadata": {},
   "outputs": [
    {
     "name": "stderr",
     "output_type": "stream",
     "text": [
      "\u001b[34m\u001b[1mwandb\u001b[0m: Currently logged in as: \u001b[33mleeks9980\u001b[0m (\u001b[33mhan-mango\u001b[0m) to \u001b[32mhttps://api.wandb.ai\u001b[0m. Use \u001b[1m`wandb login --relogin`\u001b[0m to force relogin\n"
     ]
    },
    {
     "data": {
      "text/html": [
       "Tracking run with wandb version 0.21.0"
      ],
      "text/plain": [
       "<IPython.core.display.HTML object>"
      ]
     },
     "metadata": {},
     "output_type": "display_data"
    },
    {
     "data": {
      "text/html": [
       "Run data is saved locally in <code>c:\\Users\\leeks\\my_git\\mango\\wandb\\run-20250712_174235-bo9bnp6h</code>"
      ],
      "text/plain": [
       "<IPython.core.display.HTML object>"
      ]
     },
     "metadata": {},
     "output_type": "display_data"
    },
    {
     "data": {
      "text/html": [
       "Syncing run <strong><a href='https://wandb.ai/han-mango/test_project/runs/bo9bnp6h' target=\"_blank\">test_1</a></strong> to <a href='https://wandb.ai/han-mango/test_project' target=\"_blank\">Weights & Biases</a> (<a href='https://wandb.me/developer-guide' target=\"_blank\">docs</a>)<br>"
      ],
      "text/plain": [
       "<IPython.core.display.HTML object>"
      ]
     },
     "metadata": {},
     "output_type": "display_data"
    },
    {
     "data": {
      "text/html": [
       " View project at <a href='https://wandb.ai/han-mango/test_project' target=\"_blank\">https://wandb.ai/han-mango/test_project</a>"
      ],
      "text/plain": [
       "<IPython.core.display.HTML object>"
      ]
     },
     "metadata": {},
     "output_type": "display_data"
    },
    {
     "data": {
      "text/html": [
       " View run at <a href='https://wandb.ai/han-mango/test_project/runs/bo9bnp6h' target=\"_blank\">https://wandb.ai/han-mango/test_project/runs/bo9bnp6h</a>"
      ],
      "text/plain": [
       "<IPython.core.display.HTML object>"
      ]
     },
     "metadata": {},
     "output_type": "display_data"
    }
   ],
   "source": [
    "#기본 적인 사용 방법은 아래와 같습니다.\n",
    "import wandb\n",
    "\n",
    "# 1. 실험을 시작해요.\n",
    "wandb.init(\n",
    "    project=\"test_project\",  #프로젝트 이름 \n",
    "    name=\"test_1\",  #시험 이름\n",
    "    entity=\"han-mango\"   # 팀 이름이 없다면 생략 가능\n",
    "    )\n",
    "\n",
    "# 2. 하이퍼파라미터도 기록할 수 있어요.\n",
    "config = wandb.config\n",
    "config.learning_rate = 0.001\n",
    "config.epochs = 10\n",
    "\n",
    "# 3. 학습 도중 값들을 기록해요.\n",
    "for epoch in range(config.epochs):\n",
    "    # 학습 진행 중...\n",
    "    loss = 0.25  # 예시로 숫자를 넣은 거예요\n",
    "    acc = 0.9\n",
    "\n",
    "    # wandb가 기록할 수 있도록 log함수를 호출합니다.\n",
    "    wandb.log({\n",
    "        \"loss\": loss,\n",
    "        \"accuracy\": acc,\n",
    "        \"epoch\": epoch\n",
    "    })\n"
   ]
  },
  {
   "cell_type": "markdown",
   "id": "769f1b8f",
   "metadata": {},
   "source": [
    "## ✅ W&B 웹사이트에서 실험 결과 확인 방법\n",
    "\n",
    "### 🔗 1. 실험 링크 확인\n",
    "- 학습 코드 실행 후 출력되는 `View run at ...` 메시지의 링크를 통해 바로 접속 가능\n",
    "- 해당 링크를 팀원들과 공유하면 **같은 실험 결과**를 확인할 수 있음\n",
    "\n",
    "---\n",
    "\n",
    "### 📊 2. Workspace(작업 공간)\n",
    "- `Workspace` 탭에서는 다양한 **그래프와 시각화 결과**를 확인할 수 있음\n",
    "- 기본적으로 `loss`, `accuracy`, `epoch` 등의 값이 **그래프로 자동 시각화**됨\n",
    "- 원하는 지표를 선택해서 **커스텀 그래프 구성도 가능**\n",
    "\n",
    "---\n",
    "\n",
    "### 🧾 3. Overview 탭\n",
    "- 실험에 대한 **기본 정보**들을 한눈에 확인 가능\n",
    "  - 실험 이름\n",
    "  - 실행 시간\n",
    "  - 사용한 디바이스\n",
    "  - 코드 저장소 정보 등\n",
    "\n",
    "---\n",
    "\n",
    "### ⚙️ 4. Config 탭\n",
    "- `wandb.config`로 저장한 **하이퍼파라미터 값들**을 확인할 수 있는 공간\n",
    "- 예: `learning_rate`, `batch_size`, `optimizer`, `dropout_rate` 등\n",
    "\n",
    "---\n",
    "\n",
    "> 💡 모든 정보는 팀 프로젝트 공간에서 공유되므로, 팀원과 협업하기에 매우 편리합니다.\n"
   ]
  }
 ],
 "metadata": {
  "kernelspec": {
   "display_name": "Python 3",
   "language": "python",
   "name": "python3"
  },
  "language_info": {
   "codemirror_mode": {
    "name": "ipython",
    "version": 3
   },
   "file_extension": ".py",
   "mimetype": "text/x-python",
   "name": "python",
   "nbconvert_exporter": "python",
   "pygments_lexer": "ipython3",
   "version": "3.11.9"
  }
 },
 "nbformat": 4,
 "nbformat_minor": 5
}
