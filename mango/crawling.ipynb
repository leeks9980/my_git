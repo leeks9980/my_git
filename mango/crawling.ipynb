{
 "cells": [
  {
   "cell_type": "code",
   "execution_count": null,
   "id": "554a1e08",
   "metadata": {},
   "outputs": [],
   "source": [
    "from playwright.sync_api import sync_playwright\n",
    "import csv\n",
    "import time\n",
    "from bs4 import BeautifulSoup\n",
    "\n",
    "def crawl_suncushion_list_html(playwright_page, page):\n",
    "    url = f\"https://www.oliveyoung.co.kr/store/display/getMCategoryList.do?dispCatNo=100000100110003&fltDispCatNo=&prdSort=03&pageIdx={page}&rowsPerPage=24&searchTypeSort=btn_thumb&plusButtonFlag=N&isLoginCnt=0&aShowCnt=0&bShowCnt=0&cShowCnt=0&trackingCd=Cat100000100110003_Small&amplitudePageGubun=&t_page=&t_click=&midCategory=%EC%84%A0%EC%8A%A4%ED%8B%B1&smallCategory=%EC%A0%84%EC%B2%B4&checkBrnds=&lastChkBrnd=\"\n",
    "    playwright_page.goto(url)\n",
    "    time.sleep(3)\n",
    "    html = playwright_page.content()\n",
    "    return html\n",
    "\n",
    "def parse_suncushion_list(html):\n",
    "    soup = BeautifulSoup(html, 'lxml')\n",
    "    items = soup.select(\".prd_info\")\n",
    "    data = []\n",
    "    for item in items:\n",
    "        brand = item.select_one(\".tx_brand\").get_text(strip = True)\n",
    "        name = item.select_one(\".tx_name\").get_text(strip = True)\n",
    "        link = item.select_one(\"a\")[\"href\"]\n",
    "\n",
    "        data.append({\n",
    "            \"product_brand\" : brand,\n",
    "            \"product_name\" : name,\n",
    "            \"product_link\" : link\n",
    "        })\n",
    "    return data\n",
    "\n",
    "def write_data(data):\n",
    "    with open(\"./data/sunstick_sales_list.csv\", \"w\") as fw:\n",
    "        writer = csv.DictWriter(fw, fieldnames=[\"product_name\", \"product_brand\", \"product_link\"])\n",
    "        writer.writeheader()\n",
    "        for row in data:\n",
    "            writer.writerow(row)\n",
    "\n",
    "if __name__ == \"__main__\":\n",
    "    num_pages = 2\n",
    "    with sync_playwright() as p:\n",
    "        browser = p.chromium.launch(headless=False)\n",
    "        playwright_page = browser.new_page()\n",
    "        total_data = []\n",
    "        for i in range(num_pages):\n",
    "            html = crawl_suncushion_list_html(playwright_page, i+1)\n",
    "            data = parse_suncushion_list(html)\n",
    "            total_data.extend(data)\n",
    "    write_data(total_data)\n",
    "    print(\"collected:\", len(total_data))"
   ]
  }
 ],
 "metadata": {
  "kernelspec": {
   "display_name": "Python 3",
   "language": "python",
   "name": "python3"
  },
  "language_info": {
   "codemirror_mode": {
    "name": "ipython",
    "version": 3
   },
   "file_extension": ".py",
   "mimetype": "text/x-python",
   "name": "python",
   "nbconvert_exporter": "python",
   "pygments_lexer": "ipython3",
   "version": "3.11.9"
  }
 },
 "nbformat": 4,
 "nbformat_minor": 5
}
