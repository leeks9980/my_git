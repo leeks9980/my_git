{
 "cells": [
  {
   "cell_type": "markdown",
   "id": "8151192e-3d6d-4835-bc4d-fa67781d7a6d",
   "metadata": {},
   "source": [
    "# 딕셔너리"
   ]
  },
  {
   "cell_type": "code",
   "execution_count": 1,
   "id": "a56e0c57-7da9-40a8-ac70-228f32e2c6f6",
   "metadata": {},
   "outputs": [],
   "source": [
    "A = {\"사과\" : \"열매\"}"
   ]
  },
  {
   "cell_type": "code",
   "execution_count": 2,
   "id": "6ebeeace-686c-4185-90fc-b75145ba5738",
   "metadata": {},
   "outputs": [
    {
     "name": "stdout",
     "output_type": "stream",
     "text": [
      "{'사과': '열매'}\n",
      "<class 'dict'>\n"
     ]
    }
   ],
   "source": [
    "print(A)\n",
    "print(type(A))"
   ]
  },
  {
   "cell_type": "code",
   "execution_count": 3,
   "id": "196b381a-9323-4520-827c-9001be458dc6",
   "metadata": {},
   "outputs": [
    {
     "data": {
      "text/plain": [
       "dict_keys(['사과'])"
      ]
     },
     "execution_count": 3,
     "metadata": {},
     "output_type": "execute_result"
    }
   ],
   "source": [
    "A.keys()"
   ]
  },
  {
   "cell_type": "code",
   "execution_count": 4,
   "id": "83c32d34-2f95-4e3a-a851-f6e79fadce51",
   "metadata": {},
   "outputs": [
    {
     "data": {
      "text/plain": [
       "dict_values(['열매'])"
      ]
     },
     "execution_count": 4,
     "metadata": {},
     "output_type": "execute_result"
    }
   ],
   "source": [
    "A.values()"
   ]
  },
  {
   "cell_type": "code",
   "execution_count": 5,
   "id": "6eccee0c-e4e7-45af-98ad-119c13732b82",
   "metadata": {},
   "outputs": [
    {
     "name": "stdout",
     "output_type": "stream",
     "text": [
      "{1: 1}\n",
      "<class 'dict'>\n"
     ]
    }
   ],
   "source": [
    "A = { 1 : 1 }\n",
    "print(A)\n",
    "print(type(A))"
   ]
  },
  {
   "cell_type": "code",
   "execution_count": 6,
   "id": "4d9d52bd-13e4-4e5a-8af5-3ce9592be01b",
   "metadata": {},
   "outputs": [
    {
     "name": "stdout",
     "output_type": "stream",
     "text": [
      "{1.0: 1}\n",
      "<class 'dict'>\n"
     ]
    }
   ],
   "source": [
    "A = { 1.0 : 1 }\n",
    "print(A)\n",
    "print(type(A))"
   ]
  },
  {
   "cell_type": "code",
   "execution_count": 7,
   "id": "5c09fc4b-41a7-4b9b-b798-7bf62dac5aba",
   "metadata": {},
   "outputs": [
    {
     "data": {
      "text/plain": [
       "dict_keys([1.0])"
      ]
     },
     "execution_count": 7,
     "metadata": {},
     "output_type": "execute_result"
    }
   ],
   "source": [
    "A.keys()"
   ]
  },
  {
   "cell_type": "code",
   "execution_count": 9,
   "id": "b284ec99-7403-445d-99ad-7ce0969b6254",
   "metadata": {},
   "outputs": [
    {
     "name": "stdout",
     "output_type": "stream",
     "text": [
      "<class 'complex'>\n"
     ]
    }
   ],
   "source": [
    "print(type(1j))"
   ]
  },
  {
   "cell_type": "code",
   "execution_count": 10,
   "id": "533ea6fe-e7d6-48ba-a9de-d6db8d8c8f91",
   "metadata": {},
   "outputs": [
    {
     "name": "stdout",
     "output_type": "stream",
     "text": [
      "(-1+0j)\n"
     ]
    }
   ],
   "source": [
    "print(1j * 1j)"
   ]
  },
  {
   "cell_type": "code",
   "execution_count": 11,
   "id": "f8ce3a37-230e-4b9d-83b8-909208783043",
   "metadata": {},
   "outputs": [
    {
     "name": "stdout",
     "output_type": "stream",
     "text": [
      "{True: 1}\n"
     ]
    }
   ],
   "source": [
    "A = {True : 1}\n",
    "print(A)"
   ]
  },
  {
   "cell_type": "code",
   "execution_count": 12,
   "id": "1e9d0b05-8b80-4b7d-be04-76cfd68bb507",
   "metadata": {},
   "outputs": [
    {
     "data": {
      "text/plain": [
       "dict_keys([True])"
      ]
     },
     "execution_count": 12,
     "metadata": {},
     "output_type": "execute_result"
    }
   ],
   "source": [
    "A.keys()"
   ]
  },
  {
   "cell_type": "code",
   "execution_count": 13,
   "id": "5669a331-9ab9-443f-b9e5-1a57ddfd44eb",
   "metadata": {},
   "outputs": [],
   "source": [
    "import numpy as np"
   ]
  },
  {
   "cell_type": "code",
   "execution_count": 14,
   "id": "abaeeb63-888e-4401-8af6-27e4db34ae2a",
   "metadata": {},
   "outputs": [
    {
     "name": "stdout",
     "output_type": "stream",
     "text": [
      "[[1 1]\n",
      " [1 1]]\n"
     ]
    }
   ],
   "source": [
    "W = np.array([[1, 1],\n",
    "              [1, 1]])\n",
    "print(W)"
   ]
  },
  {
   "cell_type": "code",
   "execution_count": 15,
   "id": "b66c0a9b-6718-42ad-8454-68adcc1e2768",
   "metadata": {},
   "outputs": [
    {
     "name": "stdout",
     "output_type": "stream",
     "text": [
      "{'W': array([[1, 1],\n",
      "       [1, 1]])}\n"
     ]
    }
   ],
   "source": [
    "A = {'W' : W}\n",
    "print(A)"
   ]
  },
  {
   "cell_type": "code",
   "execution_count": 16,
   "id": "cde43522-b98b-413c-9848-ec04d6d689fc",
   "metadata": {},
   "outputs": [
    {
     "name": "stdout",
     "output_type": "stream",
     "text": [
      "{'a': {'b': 1}}\n"
     ]
    }
   ],
   "source": [
    "b = {'b' : 1}\n",
    "a = {'a' : b}\n",
    "print(a)"
   ]
  },
  {
   "cell_type": "code",
   "execution_count": 17,
   "id": "979fe790-7f92-4eb5-99c1-d8547728b01b",
   "metadata": {},
   "outputs": [
    {
     "data": {
      "text/plain": [
       "dict_keys(['W'])"
      ]
     },
     "execution_count": 17,
     "metadata": {},
     "output_type": "execute_result"
    }
   ],
   "source": [
    "A.keys()"
   ]
  },
  {
   "cell_type": "code",
   "execution_count": 18,
   "id": "c63f9c46-a6a3-41bb-b51b-c8bc6044857a",
   "metadata": {},
   "outputs": [
    {
     "data": {
      "text/plain": [
       "dict_values([array([[1, 1],\n",
       "       [1, 1]])])"
      ]
     },
     "execution_count": 18,
     "metadata": {},
     "output_type": "execute_result"
    }
   ],
   "source": [
    "A.values()"
   ]
  },
  {
   "cell_type": "code",
   "execution_count": 19,
   "id": "40687b49-9f04-4bd6-b462-595471f6ae2a",
   "metadata": {},
   "outputs": [
    {
     "data": {
      "text/plain": [
       "array([[1, 1],\n",
       "       [1, 1]])"
      ]
     },
     "execution_count": 19,
     "metadata": {},
     "output_type": "execute_result"
    }
   ],
   "source": [
    "A['W']"
   ]
  },
  {
   "cell_type": "code",
   "execution_count": 20,
   "id": "868edd2f-2208-40bd-9bcd-3ee3fe4a3c86",
   "metadata": {},
   "outputs": [
    {
     "name": "stdout",
     "output_type": "stream",
     "text": [
      "{'W': array([[2, 2],\n",
      "       [2, 2]])}\n"
     ]
    }
   ],
   "source": [
    "A['W'] = np.array([[2, 2],\n",
    "                   [2, 2]])\n",
    "print(A)"
   ]
  },
  {
   "cell_type": "code",
   "execution_count": 22,
   "id": "9e7d3e4a-fa74-40e4-9601-ec030e4feb85",
   "metadata": {},
   "outputs": [
    {
     "name": "stdout",
     "output_type": "stream",
     "text": [
      "[[0.99 0.99]\n",
      " [0.99 0.99]]\n"
     ]
    }
   ],
   "source": [
    "lr = 0.01\n",
    "A_grad = np.array([[1, 1],\n",
    "                   [1, 1]])\n",
    "A['W'] = A['W'] - lr * A_grad\n",
    "print(A['W'])"
   ]
  },
  {
   "cell_type": "code",
   "execution_count": 30,
   "id": "6d595e6d-0615-49e3-ae2f-647e8ec49d7d",
   "metadata": {},
   "outputs": [
    {
     "name": "stdout",
     "output_type": "stream",
     "text": [
      "[ 1.09670311 -1.93089369  0.82314708 -1.97193152 -0.20805222  0.3112718\n",
      "  1.6691314   0.42937724 -1.78261069  0.3013037 ]\n"
     ]
    }
   ],
   "source": [
    "w = np.random.randn(10)\n",
    "print(w)"
   ]
  },
  {
   "cell_type": "code",
   "execution_count": 32,
   "id": "2abb57dd-2bb5-48e4-8138-e3e413d86ae8",
   "metadata": {},
   "outputs": [
    {
     "name": "stdout",
     "output_type": "stream",
     "text": [
      "[[-0.87421712 -2.39541124]\n",
      " [ 0.19663443 -0.16899527]]\n",
      "(2, 2)\n"
     ]
    }
   ],
   "source": [
    "W1 = np.random.randn(2,2)\n",
    "print(W1)\n",
    "print(np.shape(W1))"
   ]
  },
  {
   "cell_type": "code",
   "execution_count": 33,
   "id": "c3c5a83f-676b-4e01-8a9e-bcfa4261bfc5",
   "metadata": {},
   "outputs": [
    {
     "name": "stdout",
     "output_type": "stream",
     "text": [
      "[0. 0.]\n"
     ]
    }
   ],
   "source": [
    "b1 = np.zeros(2)\n",
    "print(b1)"
   ]
  },
  {
   "cell_type": "code",
   "execution_count": 34,
   "id": "2fe6b8b9-fd0d-4aa4-aad6-027b9328eddb",
   "metadata": {},
   "outputs": [
    {
     "name": "stdout",
     "output_type": "stream",
     "text": [
      "[[0.60980846]\n",
      " [1.34637558]]\n"
     ]
    }
   ],
   "source": [
    "W2 = np.random.randn(2,1)\n",
    "print(W2)"
   ]
  },
  {
   "cell_type": "code",
   "execution_count": 35,
   "id": "8b064817-6b2d-43f9-8f02-30ff73ef3286",
   "metadata": {},
   "outputs": [
    {
     "name": "stdout",
     "output_type": "stream",
     "text": [
      "[0.]\n"
     ]
    }
   ],
   "source": [
    "b2 = np.zeros(1)\n",
    "print(b2)"
   ]
  },
  {
   "cell_type": "code",
   "execution_count": 36,
   "id": "1cd439c1-1997-4437-804d-ac04eda5edce",
   "metadata": {},
   "outputs": [
    {
     "name": "stdout",
     "output_type": "stream",
     "text": [
      "{'W1': array([[-0.87421712, -2.39541124],\n",
      "       [ 0.19663443, -0.16899527]]), 'b1': array([0., 0.]), 'W2': array([[0.60980846],\n",
      "       [1.34637558]]), 'b2': array([0.])}\n"
     ]
    }
   ],
   "source": [
    "A = {'W1' : W1,\n",
    "    'b1' : b1,\n",
    "    'W2' : W2,\n",
    "    'b2' : b2}\n",
    "print(A)"
   ]
  },
  {
   "cell_type": "code",
   "execution_count": 37,
   "id": "a184f3df-9331-4181-8603-f8ef33cfb0ac",
   "metadata": {},
   "outputs": [
    {
     "data": {
      "text/plain": [
       "array([[-0.87421712, -2.39541124],\n",
       "       [ 0.19663443, -0.16899527]])"
      ]
     },
     "execution_count": 37,
     "metadata": {},
     "output_type": "execute_result"
    }
   ],
   "source": [
    "A['W1']"
   ]
  },
  {
   "cell_type": "code",
   "execution_count": 38,
   "id": "88b72a27-bc6f-4ae2-85f6-e855abf4c699",
   "metadata": {},
   "outputs": [
    {
     "data": {
      "text/plain": [
       "0.01"
      ]
     },
     "execution_count": 38,
     "metadata": {},
     "output_type": "execute_result"
    }
   ],
   "source": [
    "lr"
   ]
  },
  {
   "cell_type": "code",
   "execution_count": 40,
   "id": "8af063f3-87c7-4b75-9a7c-9e8a3d8519b5",
   "metadata": {},
   "outputs": [
    {
     "name": "stdout",
     "output_type": "stream",
     "text": [
      "[[-0.8568202  -2.34774255]\n",
      " [ 0.19272141 -0.16563226]]\n",
      "[0. 0.]\n",
      "[[0.59767328]\n",
      " [1.3195827 ]]\n",
      "[0.]\n"
     ]
    }
   ],
   "source": [
    "A['W1'] = A['W1'] - lr * A['W1']\n",
    "A['b1'] = A['b1'] - lr * A['b1']\n",
    "A['W2'] = A['W2'] - lr * A['W2']\n",
    "A['b2'] = A['b2'] - lr * A['b2']\n",
    "\n",
    "print(A['W1'])\n",
    "print(A['b1'])\n",
    "print(A['W2'])\n",
    "print(A['b2'])"
   ]
  },
  {
   "cell_type": "code",
   "execution_count": 42,
   "id": "03f77edc-747f-4de7-89e5-cc59217b9b43",
   "metadata": {},
   "outputs": [
    {
     "data": {
      "text/plain": [
       "-0.8568202042045778"
      ]
     },
     "execution_count": 42,
     "metadata": {},
     "output_type": "execute_result"
    }
   ],
   "source": [
    "A['W1'][0,0]"
   ]
  },
  {
   "cell_type": "markdown",
   "id": "9ddb7768-dd59-46fb-98ab-20a63f3c3207",
   "metadata": {},
   "source": [
    "# 미분"
   ]
  },
  {
   "cell_type": "code",
   "execution_count": 45,
   "id": "646ee2a9-4bb2-4058-b638-8e971ca34625",
   "metadata": {},
   "outputs": [
    {
     "name": "stdout",
     "output_type": "stream",
     "text": [
      "9\n"
     ]
    }
   ],
   "source": [
    "x0 = 3\n",
    "y = x0**2\n",
    "print(y)"
   ]
  },
  {
   "cell_type": "code",
   "execution_count": 46,
   "id": "0835a1bd-91cd-41c2-9908-d4fd6d1a81ab",
   "metadata": {},
   "outputs": [
    {
     "name": "stdout",
     "output_type": "stream",
     "text": [
      "6\n"
     ]
    }
   ],
   "source": [
    "dy = 2*x0\n",
    "print(dy)"
   ]
  },
  {
   "cell_type": "code",
   "execution_count": 47,
   "id": "005e976d-1ad9-4393-a5eb-e8e4ac3eb90c",
   "metadata": {},
   "outputs": [
    {
     "name": "stdout",
     "output_type": "stream",
     "text": [
      "0.5\n"
     ]
    }
   ],
   "source": [
    "y = 0\n",
    "z = 1 / (1 + np.exp(-y))\n",
    "print(z)"
   ]
  },
  {
   "cell_type": "code",
   "execution_count": 48,
   "id": "edabb5f3-c7ed-4442-8f76-0f1db35387e3",
   "metadata": {},
   "outputs": [
    {
     "name": "stdout",
     "output_type": "stream",
     "text": [
      "0.25\n"
     ]
    }
   ],
   "source": [
    "dy = z * (1- z)\n",
    "print(dy)"
   ]
  },
  {
   "cell_type": "code",
   "execution_count": 50,
   "id": "9b133090-1b0c-469b-8018-513c9d93d781",
   "metadata": {},
   "outputs": [
    {
     "name": "stdout",
     "output_type": "stream",
     "text": [
      "1\n"
     ]
    }
   ],
   "source": [
    "x = 1\n",
    "w = 1\n",
    "b = 0\n",
    "\n",
    "y = x*w + b\n",
    "print(y)"
   ]
  },
  {
   "cell_type": "code",
   "execution_count": 51,
   "id": "81c6dedf-78fb-4868-b7a1-fdbe55ff696d",
   "metadata": {},
   "outputs": [],
   "source": [
    "dx = w\n",
    "dw = x\n",
    "db = 1"
   ]
  },
  {
   "cell_type": "code",
   "execution_count": 54,
   "id": "f1bc1e21-3d80-4a77-9d2f-47d5b6e472ae",
   "metadata": {
    "scrolled": true
   },
   "outputs": [
    {
     "name": "stdout",
     "output_type": "stream",
     "text": [
      "0 th y 값 : [-1.56792853] \n",
      "0 th L 값 : [6.59425692] \n",
      "1 th y 값 : [-1.31113568] \n",
      "1 th L 값 : [5.34134811] \n",
      "2 th y 값 : [-1.08002211] \n",
      "2 th L 값 : [4.32649197] \n",
      "3 th y 값 : [-0.8720199] \n",
      "3 th L 값 : [3.50445849] \n",
      "4 th y 값 : [-0.68481791] \n",
      "4 th L 값 : [2.83861138] \n",
      "5 th y 값 : [-0.51633612] \n",
      "5 th L 값 : [2.29927522] \n",
      "6 th y 값 : [-0.3647025] \n",
      "6 th L 값 : [1.86241293] \n",
      "7 th y 값 : [-0.22823225] \n",
      "7 th L 값 : [1.50855447] \n",
      "8 th y 값 : [-0.10540903] \n",
      "8 th L 값 : [1.22192912] \n",
      "9 th y 값 : [0.00513187] \n",
      "9 th L 값 : [0.98976259] \n",
      "10 th y 값 : [0.10461869] \n",
      "10 th L 값 : [0.8017077] \n",
      "11 th y 값 : [0.19415682] \n",
      "11 th L 값 : [0.64938323] \n",
      "12 th y 값 : [0.27474114] \n",
      "12 th L 값 : [0.52600042] \n",
      "13 th y 값 : [0.34726702] \n",
      "13 th L 값 : [0.42606034] \n",
      "14 th y 값 : [0.41254032] \n",
      "14 th L 값 : [0.34510888] \n",
      "15 th y 값 : [0.47128629] \n",
      "15 th L 값 : [0.27953819] \n",
      "16 th y 값 : [0.52415766] \n",
      "16 th L 값 : [0.22642593] \n",
      "17 th y 값 : [0.57174189] \n",
      "17 th L 값 : [0.18340501] \n",
      "18 th y 값 : [0.6145677] \n",
      "18 th L 값 : [0.14855805] \n",
      "19 th y 값 : [0.65311093] \n",
      "19 th L 값 : [0.12033202] \n",
      "20 th y 값 : [0.68779984] \n",
      "20 th L 값 : [0.09746894] \n",
      "21 th y 값 : [0.71901986] \n",
      "21 th L 값 : [0.07894984] \n",
      "22 th y 값 : [0.74711787] \n",
      "22 th L 값 : [0.06394937] \n",
      "23 th y 값 : [0.77240608] \n",
      "23 th L 값 : [0.05179899] \n",
      "24 th y 값 : [0.79516548] \n",
      "24 th L 값 : [0.04195718] \n",
      "25 th y 값 : [0.81564893] \n",
      "25 th L 값 : [0.03398532] \n",
      "26 th y 값 : [0.83408403] \n",
      "26 th L 값 : [0.02752811] \n",
      "27 th y 값 : [0.85067563] \n",
      "27 th L 값 : [0.02229777] \n",
      "28 th y 값 : [0.86560807] \n",
      "28 th L 값 : [0.01806119] \n",
      "29 th y 값 : [0.87904726] \n",
      "29 th L 값 : [0.01462956] \n",
      "30 th y 값 : [0.89114254] \n",
      "30 th L 값 : [0.01184995] \n",
      "31 th y 값 : [0.90202828] \n",
      "31 th L 값 : [0.00959846] \n",
      "32 th y 값 : [0.91182545] \n",
      "32 th L 값 : [0.00777475] \n",
      "33 th y 값 : [0.92064291] \n",
      "33 th L 값 : [0.00629755] \n",
      "34 th y 값 : [0.92857862] \n",
      "34 th L 값 : [0.00510101] \n",
      "35 th y 값 : [0.93572076] \n",
      "35 th L 값 : [0.00413182] \n",
      "36 th y 값 : [0.94214868] \n",
      "36 th L 값 : [0.00334678] \n",
      "37 th y 값 : [0.94793381] \n",
      "37 th L 값 : [0.00271089] \n",
      "38 th y 값 : [0.95314043] \n",
      "38 th L 값 : [0.00219582] \n",
      "39 th y 값 : [0.95782639] \n",
      "39 th L 값 : [0.00177861] \n",
      "40 th y 값 : [0.96204375] \n",
      "40 th L 값 : [0.00144068] \n",
      "41 th y 값 : [0.96583937] \n",
      "41 th L 값 : [0.00116695] \n",
      "42 th y 값 : [0.96925544] \n",
      "42 th L 값 : [0.00094523] \n",
      "43 th y 값 : [0.97232989] \n",
      "43 th L 값 : [0.00076563] \n",
      "44 th y 값 : [0.9750969] \n",
      "44 th L 값 : [0.00062016] \n",
      "45 th y 값 : [0.97758721] \n",
      "45 th L 값 : [0.00050233] \n",
      "46 th y 값 : [0.97982849] \n",
      "46 th L 값 : [0.00040689] \n",
      "47 th y 값 : [0.98184564] \n",
      "47 th L 값 : [0.00032958] \n",
      "48 th y 값 : [0.98366108] \n",
      "48 th L 값 : [0.00026696] \n",
      "49 th y 값 : [0.98529497] \n",
      "49 th L 값 : [0.00021624] \n",
      "50 th y 값 : [0.98676547] \n",
      "50 th L 값 : [0.00017515] \n",
      "51 th y 값 : [0.98808893] \n",
      "51 th L 값 : [0.00014187] \n",
      "52 th y 값 : [0.98928003] \n",
      "52 th L 값 : [0.00011492] \n",
      "53 th y 값 : [0.99035203] \n",
      "53 th L 값 : [9.30833199e-05] \n",
      "54 th y 값 : [0.99131683] \n",
      "54 th L 값 : [7.53974892e-05] \n",
      "55 th y 값 : [0.99218514] \n",
      "55 th L 값 : [6.10719662e-05] \n",
      "56 th y 값 : [0.99296663] \n",
      "56 th L 값 : [4.94682926e-05] \n",
      "57 th y 값 : [0.99366997] \n",
      "57 th L 값 : [4.0069317e-05] \n",
      "58 th y 값 : [0.99430297] \n",
      "58 th L 값 : [3.24561468e-05] \n",
      "59 th y 값 : [0.99487267] \n",
      "59 th L 값 : [2.62894789e-05] \n",
      "60 th y 값 : [0.99538541] \n",
      "60 th L 값 : [2.12944779e-05] \n",
      "61 th y 값 : [0.99584687] \n",
      "61 th L 값 : [1.72485271e-05] \n",
      "62 th y 값 : [0.99626218] \n",
      "62 th L 값 : [1.3971307e-05] \n",
      "63 th y 값 : [0.99663596] \n",
      "63 th L 값 : [1.13167586e-05] \n",
      "64 th y 값 : [0.99697236] \n",
      "64 th L 값 : [9.1665745e-06] \n",
      "65 th y 값 : [0.99727513] \n",
      "65 th L 값 : [7.42492534e-06] \n",
      "66 th y 값 : [0.99754762] \n",
      "66 th L 값 : [6.01418953e-06] \n",
      "67 th y 값 : [0.99779285] \n",
      "67 th L 값 : [4.87149352e-06] \n",
      "68 th y 값 : [0.99801357] \n",
      "68 th L 값 : [3.94590975e-06] \n",
      "69 th y 값 : [0.99821221] \n",
      "69 th L 값 : [3.1961869e-06] \n",
      "70 th y 값 : [0.99839099] \n",
      "70 th L 값 : [2.58891139e-06] \n",
      "71 th y 값 : [0.99855189] \n",
      "71 th L 값 : [2.09701822e-06] \n",
      "72 th y 값 : [0.9986967] \n",
      "72 th L 값 : [1.69858476e-06] \n",
      "73 th y 값 : [0.99882703] \n",
      "73 th L 값 : [1.37585366e-06] \n",
      "74 th y 값 : [0.99894433] \n",
      "74 th L 값 : [1.11444146e-06] \n",
      "75 th y 값 : [0.9990499] \n",
      "75 th L 값 : [9.02697584e-07] \n",
      "76 th y 값 : [0.99914491] \n",
      "76 th L 값 : [7.31185043e-07] \n",
      "77 th y 값 : [0.99923042] \n",
      "77 th L 값 : [5.92259885e-07] \n",
      "78 th y 값 : [0.99930737] \n",
      "78 th L 값 : [4.79730507e-07] \n",
      "79 th y 값 : [0.99937664] \n",
      "79 th L 값 : [3.8858171e-07] \n",
      "80 th y 값 : [0.99943897] \n",
      "80 th L 값 : [3.14751185e-07] \n",
      "81 th y 값 : [0.99949508] \n",
      "81 th L 값 : [2.5494846e-07] \n",
      "82 th y 값 : [0.99954557] \n",
      "82 th L 값 : [2.06508253e-07] \n",
      "83 th y 값 : [0.99959101] \n",
      "83 th L 값 : [1.67271685e-07] \n",
      "84 th y 값 : [0.99963191] \n",
      "84 th L 값 : [1.35490065e-07] \n",
      "85 th y 값 : [0.99966872] \n",
      "85 th L 값 : [1.09746952e-07] \n",
      "86 th y 값 : [0.99970185] \n",
      "86 th L 값 : [8.88950314e-08] \n",
      "87 th y 값 : [0.99973166] \n",
      "87 th L 값 : [7.20049754e-08] \n",
      "88 th y 값 : [0.9997585] \n",
      "88 th L 값 : [5.83240301e-08] \n",
      "89 th y 값 : [0.99978265] \n",
      "89 th L 값 : [4.72424644e-08] \n",
      "90 th y 값 : [0.99980438] \n",
      "90 th L 값 : [3.82663961e-08] \n",
      "91 th y 값 : [0.99982394] \n",
      "91 th L 값 : [3.09957809e-08] \n",
      "92 th y 값 : [0.99984155] \n",
      "92 th L 값 : [2.51065825e-08] \n",
      "93 th y 값 : [0.99985739] \n",
      "93 th L 값 : [2.03363318e-08] \n",
      "94 th y 값 : [0.99987166] \n",
      "94 th L 값 : [1.64724288e-08] \n",
      "95 th y 값 : [0.99988449] \n",
      "95 th L 값 : [1.33426673e-08] \n",
      "96 th y 값 : [0.99989604] \n",
      "96 th L 값 : [1.08075605e-08] \n",
      "97 th y 값 : [0.99990644] \n",
      "97 th L 값 : [8.75412403e-09] \n",
      "98 th y 값 : [0.99991579] \n",
      "98 th L 값 : [7.09084046e-09] \n",
      "99 th y 값 : [0.99992421] \n",
      "99 th L 값 : [5.74358077e-09] \n",
      "[0.99993179]\n",
      "[4.65230043e-09]\n"
     ]
    }
   ],
   "source": [
    "x = 2\n",
    "t = 1\n",
    "lr =0.01\n",
    "\n",
    "w = np.random.randn(1)\n",
    "b = 0\n",
    "\n",
    "for i in range(100):\n",
    "    # Forward\n",
    "    y = w * x + b\n",
    "    L = (y - t)**2\n",
    "    print(\"{} th y 값 : {} \".format(i, y))\n",
    "    print(\"{} th L 값 : {} \".format(i, L))\n",
    "    \n",
    "    # Gradient / Backpropagation\n",
    "    dL_dy = 2 * (y-t)\n",
    "    dy_dw = x\n",
    "    dy_db = 1\n",
    "    \n",
    "    dw = dL_dy * dy_dw\n",
    "    db = dL_dy * dy_db\n",
    "    \n",
    "    # Update\n",
    "    w = w - lr * dw\n",
    "    b = b - lr * db\n",
    "\n",
    "y = w * x + b\n",
    "L = (y-t)**2\n",
    "print(y)\n",
    "print(L)"
   ]
  },
  {
   "cell_type": "code",
   "execution_count": null,
   "id": "f26f0da5-7896-47a6-a82f-17b4cfc4afb5",
   "metadata": {},
   "outputs": [],
   "source": []
  }
 ],
 "metadata": {
  "kernelspec": {
   "display_name": "Python 3 (ipykernel)",
   "language": "python",
   "name": "python3"
  },
  "language_info": {
   "codemirror_mode": {
    "name": "ipython",
    "version": 3
   },
   "file_extension": ".py",
   "mimetype": "text/x-python",
   "name": "python",
   "nbconvert_exporter": "python",
   "pygments_lexer": "ipython3",
   "version": "3.12.7"
  }
 },
 "nbformat": 4,
 "nbformat_minor": 5
}
