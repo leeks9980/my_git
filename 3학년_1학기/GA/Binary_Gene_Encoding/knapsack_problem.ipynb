{
 "cells": [
  {
   "cell_type": "code",
   "execution_count": 13,
   "id": "f65574a7",
   "metadata": {},
   "outputs": [],
   "source": [
    "import random\n",
    "from itertools import compress\n",
    "\n",
    "class Item:\n",
    "    def __init__(self, name, weight, price) -> None:\n",
    "        self.name = name\n",
    "        self.weight = weight\n",
    "        self.price = price \n",
    "\n",
    "class Individual:\n",
    "    counter = 0\n",
    "    \n",
    "    @classmethod\n",
    "    def set_items(cls, items):  #아이템 변수 지정\n",
    "        cls.items = items\n",
    "    \n",
    "    @classmethod\n",
    "    def set_max_weight(cls, max_weight):   #최대 무게 설정\n",
    "        cls.max_weight = max_weight\n",
    "    \n",
    "    @classmethod\n",
    "    def create_random(cls):\n",
    "        return Individual([random.choice([0, 1]) for _ in range(len(cls.items))])  #물건을 가방에 넣을지 판단\n",
    "    \n",
    "    def __init__(self, gene_list) -> None:\n",
    "        self.gene_list = gene_list\n",
    "        self.fitness = self.fitness_function()\n",
    "        self.__class__.counter += 1\n",
    "    \n",
    "    def total_price(self):\n",
    "        return sum([i.price for i in list(compress(self.__class__.items, self.gene_list))])  #compress는 gene_list에서 1인 물건만 추출하여 가격을 합산\n",
    "    \n",
    "    def total_weight(self):\n",
    "        return sum([i.weight for i in list(compress(self.__class__.items, self.gene_list))])  #compress는 gene_list에서 1인 물건만 추출하여 무게을 합산\n",
    "    \n",
    "    def fitness_function(self):\n",
    "        if self.total_weight() > self.__class__.max_weight:  #최대 무게 초과시 0 리턴\n",
    "            return 0\n",
    "        else:\n",
    "            return self.total_price()  #적합도 계산(물건의 가격)\n",
    "    \n",
    "    def __str__(self):\n",
    "        return f'gene: {self.gene_list}, price: {self.total_price()}, weight: {self.total_weight()}'\n",
    "    \n",
    "    def plot_info(self):\n",
    "        print(f'Included: {[i.name for i in list(compress(self.__class__.items,self.gene_list))]}')\n",
    "        print(f'Fitness: {self.fitness}')\n",
    "        print(f'Price: {self.total_price()}')\n",
    "        print(f'Weight: {self.total_weight()}')"
   ]
  },
  {
   "cell_type": "code",
   "execution_count": 14,
   "id": "967f468d",
   "metadata": {},
   "outputs": [
    {
     "name": "stdout",
     "output_type": "stream",
     "text": [
      "Included: ['laptop', 'book', 'flower', 'watch', 'tablet']\n",
      "Fitness: 1270\n",
      "Price: 1270\n",
      "Weight: 7.55\n"
     ]
    }
   ],
   "source": [
    "import random\n",
    "if __name__ == '__main__':\n",
    "    random.seed(13)\n",
    "    items = [\n",
    "        Item('laptop', 3, 300),\n",
    "        Item('book', 2, 15),\n",
    "        Item('radio', 1, 30),\n",
    "        Item('tv', 6, 230),\n",
    "        Item('potato', 5, 7),\n",
    "        Item('brick', 3, 1),\n",
    "        Item('bottle', 1, 2),\n",
    "        Item('camera', 0.5, 280),\n",
    "        Item('smartphone', 0.1, 500),\n",
    "        Item('picture', 1, 170),\n",
    "        Item('flower', 2, 5),\n",
    "        Item('chair', 3, 4),\n",
    "        Item('watch', 0.05, 500),\n",
    "        Item('boots', 1.5, 30),\n",
    "        Item('radiator', 5, 25),\n",
    "        Item('tablet', 0.5, 450),\n",
    "        Item('printer', 4.5, 170)\n",
    "    ]\n",
    "    Individual.set_items(items)\n",
    "    Individual.set_max_weight(10)\n",
    "    ind = Individual.create_random()\n",
    "    ind.plot_info()\n"
   ]
  },
  {
   "cell_type": "code",
   "execution_count": 38,
   "id": "06e511ad",
   "metadata": {},
   "outputs": [
    {
     "data": {
      "image/png": "[encoded data removed]",
      "text/plain": [
       "<Figure size 640x480 with 1 Axes>"
      ]
     },
     "metadata": {},
     "output_type": "display_data"
    }
   ],
   "source": [
    "# 200개의 물건\n",
    "import random\n",
    "import matplotlib.pyplot as plt\n",
    "\n",
    "def random_set_generator(min_price, max_price, min_weight, max_weight, total_number):\n",
    "    l = []\n",
    "    for i in range(total_number):  \n",
    "        a = Item(f'Item#{i}', random.uniform(min_weight, max_weight),random.uniform(min_price, max_price))\n",
    "        l.append(a)\n",
    "    return l\n",
    "if __name__ == '__main__':\n",
    "    random.seed(15)\n",
    "    items = random_set_generator(1, 100, 0.1, 7, 200)  #최소 가격, 최대 가격, 최소 무게, 최대 무게, 아이템 개수\n",
    "    plt.scatter([i.weight for i in items], [i.price for i in items])\n",
    "    plt.xlabel('weight')\n",
    "    plt.ylabel('price')\n",
    "    plt.show()\n"
   ]
  },
  {
   "cell_type": "code",
   "execution_count": null,
   "id": "185714a7",
   "metadata": {},
   "outputs": [
    {
     "name": "stdout",
     "output_type": "stream",
     "text": [
      "Average weight of population: 342.78693149983286\n"
     ]
    }
   ],
   "source": [
    "import random\n",
    "\n",
    "if __name__ == '__main__':\n",
    "    #random.seed(1)\n",
    "    items = random_set_generator(1, 100, 0.1, 7, 200)\n",
    "    Individual.set_items(items)  #아이템 변수 지정\n",
    "    Individual.set_max_weight(10)  #최대 무게 설정\n",
    "    population = [Individual.create_random() for _ in range(1000)]  #1000개의 개체 생성\n",
    "    average_weight = sum([ind.total_weight() for ind in population]) /len(population)\n",
    "    print(f'Average weight of population: {average_weight}')\n",
    "#결과를 보면 평균 무게가 최대 무게 보다 너무 높음\n",
    "#그럼 사용할수 없는 개체가 많아짐"
   ]
  },
  {
   "cell_type": "code",
   "execution_count": null,
   "id": "53b8c59e",
   "metadata": {},
   "outputs": [
    {
     "name": "stdout",
     "output_type": "stream",
     "text": [
      "7.9052025778010755\n",
      "Average weight of population: 13.855059041278013\n"
     ]
    }
   ],
   "source": [
    "import random\n",
    "\n",
    "def create_random_individual(gene_len, zeros = 1, ones = 1):  #0의 비율을 올리기 위한 함수\n",
    "    s = ([0] * zeros) + ([1] * ones)\n",
    "    return Individual([random.choice(s) for _ in range(gene_len)])\n",
    "if __name__ == '__main__':\n",
    "    random.seed(1)\n",
    "    items = random_set_generator(1, 100, 0.1, 7, 200)\n",
    "    Individual.set_items(items)\n",
    "    Individual.set_max_weight(10)\n",
    "    population = [create_random_individual(len(items), 50, 1) for _ in range(1000)]  #50:1 확률로 1을 생성\n",
    "    average_weight = sum([ind.total_weight() for ind in population]) /len(population)\n",
    "    print(f'Average weight of population: {average_weight}')\n",
    "\n",
    "#결과를 보면 평균 무게가 최대 무게 보다 낮아짐\n",
    "#그럼 사용할수 있는 개체가 많아짐"
   ]
  },
  {
   "cell_type": "code",
   "execution_count": null,
   "id": "e7b57dd5",
   "metadata": {},
   "outputs": [
    {
     "name": "stdout",
     "output_type": "stream",
     "text": [
      "Best individual: 802.3740868900151\n"
     ]
    },
    {
     "data": {
      "image/png": "[encoded data removed]",
      "text/plain": [
       "<Figure size 640x480 with 1 Axes>"
      ]
     },
     "metadata": {},
     "output_type": "display_data"
    }
   ],
   "source": [
    "import random\n",
    "import matplotlib.pyplot as plt\n",
    "import copy\n",
    "\n",
    "def mutation_bit_flip(ind):\n",
    "    mut = copy.deepcopy(ind)\n",
    "    pos = random.randint(0, len(ind) - 1)\n",
    "    g1 = mut[pos]\n",
    "    mut[pos] = (g1 + 1) % 2\n",
    "    return mut\n",
    "\n",
    "def mutate(ind):\n",
    "    mutated_gene = mutation_bit_flip(ind.gene_list)\n",
    "    return Individual(mutated_gene)\n",
    "\n",
    "if __name__ == '__main__':\n",
    "    random.seed(63)\n",
    "    items = random_set_generator(1, 100, 0.1, 7, 200)\n",
    "    Individual.set_items(items)\n",
    "    Individual.set_max_weight(10)\n",
    "    gene_set = [0] * len(items)\n",
    "    inclusions = [2, 30, 34, 42, 48, 64, 85, 104, 113, 119, 157, 174]\n",
    "    for i in inclusions:\n",
    "        gene_set[i] = 1\n",
    "        ind = Individual(gene_set)\n",
    "        alive = 0\n",
    "        killed = 0\n",
    "    for _ in range(1000):\n",
    "        mutated = mutate(ind)\n",
    "        if mutated.fitness == 0:\n",
    "            killed += 1\n",
    "        else:\n",
    "            alive += 1\n",
    "print(f'Best individual: {ind.fitness}')\n",
    "labels = 'Killed', 'Alive'\n",
    "sizes = [killed, alive]\n",
    "plt.pie(sizes, labels = labels)\n",
    "plt.show ()\n",
    "#ㅗ"
   ]
  },
  {
   "cell_type": "code",
   "execution_count": null,
   "id": "2303895b",
   "metadata": {},
   "outputs": [
    {
     "name": "stdout",
     "output_type": "stream",
     "text": [
      "None\n"
     ]
    },
    {
     "ename": "NameError",
     "evalue": "name 'selection_rank_with_elite' is not defined",
     "output_type": "error",
     "traceback": [
      "\u001b[31m---------------------------------------------------------------------------\u001b[39m",
      "\u001b[31mNameError\u001b[39m                                 Traceback (most recent call last)",
      "\u001b[36mCell\u001b[39m\u001b[36m \u001b[39m\u001b[32mIn[70]\u001b[39m\u001b[32m, line 36\u001b[39m\n\u001b[32m     34\u001b[39m \u001b[38;5;28;01mwhile\u001b[39;00m generation_number < MAX_GENERATIONS:\n\u001b[32m     35\u001b[39m     generation_number += \u001b[32m1\u001b[39m\n\u001b[32m---> \u001b[39m\u001b[32m36\u001b[39m     offspring = \u001b[43mselect\u001b[49m\u001b[43m(\u001b[49m\u001b[43mpopulation\u001b[49m\u001b[43m)\u001b[49m\n\u001b[32m     38\u001b[39m     crossed_offspring = crossover_operation(offspring, crossover, CROSSOVER_PROBABILITY)\n\u001b[32m     39\u001b[39m     mutated_offspring = mutation_operation(crossed_offspring, mutate, MUTATION_PROBABILITY)\n",
      "\u001b[36mCell\u001b[39m\u001b[36m \u001b[39m\u001b[32mIn[70]\u001b[39m\u001b[32m, line 14\u001b[39m, in \u001b[36mselect\u001b[39m\u001b[34m(population)\u001b[39m\n\u001b[32m     13\u001b[39m \u001b[38;5;28;01mdef\u001b[39;00m\u001b[38;5;250m \u001b[39m\u001b[34mselect\u001b[39m(population):\n\u001b[32m---> \u001b[39m\u001b[32m14\u001b[39m     \u001b[38;5;28;01mreturn\u001b[39;00m \u001b[43mselection_rank_with_elite\u001b[49m(population, elite_size = \u001b[32m2\u001b[39m)\n",
      "\u001b[31mNameError\u001b[39m: name 'selection_rank_with_elite' is not defined"
     ]
    }
   ],
   "source": [
    "def crossover_fitness_driven_one_point(p1, p2):\n",
    "    point = random.randint(1, len(p1) - 1) #교차 지섬 선택\n",
    "    c1, c2 = copy.deepcopy(p1), copy.deepcopy(p2)\n",
    "    c1[point:], c2[point:] = p2[point:], p1[point:] #교차\n",
    "    return [c1, c2]\n",
    "\n",
    "def crossover(parent1, parent2):\n",
    "    return crossover_fitness_driven_one_point(parent1, parent2)\n",
    "\n",
    "def mutate(ind):\n",
    "    return mutation_fitness_driven_bit_flip(ind, max_tries = 3)\n",
    "\n",
    "def select(population):\n",
    "    return selection_rank_with_elite(population, elite_size = 2)\n",
    "\n",
    "items = random_set_generator(1, 100, 0.1, 7, 200)\n",
    "a = Individual.set_items(items)\n",
    "Individual.set_max_weight(10)\n",
    "\n",
    "POPULATION_SIZE = 100\n",
    "CROSSOVER_PROBABILITY = .7\n",
    "MUTATION_PROBABILITY = .2\n",
    "MAX_GENERATIONS = 50\n",
    "\n",
    "first_population = [create_random_individual(len(items), zeros = 30) for _ in range(POPULATION_SIZE)] \n",
    "population = first_population.copy()\n",
    "fitness_list = [ind.fitness for ind in population]\n",
    "fit_avg = [sum(fitness_list) / len(population)]\n",
    "fit_best = [max(fitness_list)]\n",
    "fit_best_ever = [max(fitness_list + fit_best)]\n",
    "best_ind = random.choice(first_population)\n",
    "generation_number = 0\n",
    "while generation_number < MAX_GENERATIONS:\n",
    "    generation_number += 1\n",
    "    offspring = select(population)\n",
    "\n",
    "    crossed_offspring = crossover_operation(offspring, crossover, CROSSOVER_PROBABILITY)\n",
    "    mutated_offspring = mutation_operation(crossed_offspring, mutate, MUTATION_PROBABILITY)\n",
    "    \n",
    "    population = mutated_offspring.copy()\n",
    "    \n",
    "    best_ind, fit_avg, fit_best, fit_best_ever = stats(population, best_ind, fit_avg, fit_best, fit_best_ever)\n",
    "\n",
    "    plot_stats(fit_avg, fit_best_ever, \"General Knapsack Problem\")\n",
    "\n",
    "print(f'Best Fitness: {best_ind.fitness}')\n",
    "print(f'Total Number of Individuals: {Individual.counter}')"
   ]
  }
 ],
 "metadata": {
  "kernelspec": {
   "display_name": "Python 3",
   "language": "python",
   "name": "python3"
  },
  "language_info": {
   "codemirror_mode": {
    "name": "ipython",
    "version": 3
   },
   "file_extension": ".py",
   "mimetype": "text/x-python",
   "name": "python",
   "nbconvert_exporter": "python",
   "pygments_lexer": "ipython3",
   "version": "3.11.9"
  }
 },
 "nbformat": 4,
 "nbformat_minor": 5
}
