{
 "cells": [
  {
   "cell_type": "code",
   "execution_count": 1,
   "metadata": {},
   "outputs": [
    {
     "name": "stdout",
     "output_type": "stream",
     "text": [
      "Parent 1: [2, 4, 0, 0, 3]\n",
      "Parent 2: [6, 6, 2, 3, 1]\n",
      "Child 1: [2, 6, 2, 3, 1]\n",
      "Child 2: [6, 4, 0, 0, 3]\n"
     ]
    }
   ],
   "source": [
    "#one point crossover(1개의 지점에서만 교차)\n",
    "from basic_function import crossover \n",
    "import random\n",
    "\n",
    "#유전자가 5개를 가지는 개체 생성\n",
    "p1 = [random.randint(0, 9) for _ in range(5)] \n",
    "p2 = [random.randint(0, 9) for _ in range(5)]\n",
    "\n",
    "offspring = crossover.crossover_one_point(p1, p2) #교차점 선택\n",
    "\n",
    "print(f'Parent 1: {p1}')\n",
    "print(f'Parent 2: {p2}')\n",
    "print(f'Child 1: {offspring[0]}')\n",
    "print(f'Child 2: {offspring[1]}')"
   ]
  },
  {
   "cell_type": "code",
   "execution_count": 2,
   "metadata": {},
   "outputs": [
    {
     "name": "stdout",
     "output_type": "stream",
     "text": [
      "Parent 1: [2, 8, 6, 5, 3, 4]\n",
      "Parent 2: [16, 16, 18, 14, 15, 18]\n",
      "Child 1: [2, 16, 18, 5, 15, 18]\n",
      "Child 2: [16, 8, 6, 14, 3, 4]\n"
     ]
    }
   ],
   "source": [
    "#N point crossover (여러개 지점 교차)\n",
    "from basic_function import crossover\n",
    "import random\n",
    "\n",
    "p1 = [random.randint(0, 9) for _ in range(6)]\n",
    "p2 = [random.randint(10, 19) for _ in range(6)]\n",
    "\n",
    "N_point = 3 #교차 지점 갯수 설정\n",
    "\n",
    "offspring = crossover.crossover_n_point(p1, p2, N_point) \n",
    "\n",
    "print(f'Parent 1: {p1}')\n",
    "print(f'Parent 2: {p2}')\n",
    "print(f'Child 1: {offspring[0]}')\n",
    "print(f'Child 2: {offspring[1]}')"
   ]
  },
  {
   "cell_type": "code",
   "execution_count": 3,
   "metadata": {},
   "outputs": [
    {
     "name": "stdout",
     "output_type": "stream",
     "text": [
      "Parent 1: [1, 6, 8, 4, 5, 0]\n",
      "Parent 2: [19, 14, 10, 19, 17, 17]\n",
      "Child 1: [19, 14, 8, 19, 17, 17]\n",
      "Child 2: [1, 6, 10, 4, 5, 0]\n"
     ]
    }
   ],
   "source": [
    "#균일 교차 (uniform crossover)\n",
    "from basic_function import crossover\n",
    "import random\n",
    "\n",
    "p1 = [random.randint(0, 9) for _ in range(6)]\n",
    "p2 = [random.randint(10, 19) for _ in range(6)]\n",
    "\n",
    "possibility = 0.5 #교차 발생 확률\n",
    "\n",
    "offspring = crossover.crossover_uniform(p1, p2, possibility) \n",
    "\n",
    "print(f'Parent 1: {p1}')\n",
    "print(f'Parent 2: {p2}')\n",
    "print(f'Child 1: {offspring[0]}')\n",
    "print(f'Child 2: {offspring[1]}')"
   ]
  },
  {
   "cell_type": "code",
   "execution_count": 4,
   "metadata": {},
   "outputs": [
    {
     "name": "stdout",
     "output_type": "stream",
     "text": [
      "Parent 1: [9.92, 8.01, 7.59, 1.61, 9.7, 5.88]\n",
      "Parent 2: [8.31, 0.37, 8.74, 9.65, 8.65, 8.07]\n",
      "Child 1: [9.44, 5.72, 7.93, 4.02, 9.38, 6.54]\n",
      "Child 2: [8.79, 2.66, 8.39, 7.24, 8.96, 7.41]\n"
     ]
    }
   ],
   "source": [
    "#선형 조합 교차(Linear combination crossover)\n",
    "from basic_function import crossover\n",
    "import random\n",
    "\n",
    "p1 = [round(random.uniform(0, 10), 2) for _ in range(6)]\n",
    "p2 = [round(random.uniform(0, 10), 2) for _ in range(6)]\n",
    "\n",
    "Parameters = 0.3\n",
    "\n",
    "offspring = crossover.crossover_linear(p1, p2, Parameters)\n",
    "\n",
    "print(f'Parent 1: {p1}')\n",
    "print(f'Parent 2: {p2}')\n",
    "print(f'Child 1: {offspring[0]}')\n",
    "print(f'Child 2: {offspring[1]}')"
   ]
  },
  {
   "cell_type": "code",
   "execution_count": 5,
   "metadata": {},
   "outputs": [
    {
     "name": "stdout",
     "output_type": "stream",
     "text": [
      "Parent 1: [5.22, 7.18, 7.73, 3.41, 6.15, 2.7]\n",
      "Parent 2: [0.65, 5.4, 6.57, 7.2, 9.11, 7.39]\n",
      "Child 1: [1.29, 6.94, 7.63, 2.19, 8.42, 0.88]\n",
      "Child 2: [2.93, 7.72, 7.0, 8.54, 7.22, 5.88]\n"
     ]
    }
   ],
   "source": [
    "#blend crossover \n",
    "from basic_function import crossover\n",
    "import random\n",
    "\n",
    "Parameters = 0.5\n",
    "\n",
    "p1 = [round(random.uniform(0, 10), 2) for _ in range(6)]\n",
    "p2 = [round(random.uniform(0, 10), 2) for _ in range(6)]\n",
    "\n",
    "offspring = crossover.crossover_blend(p1, p2, Parameters)\n",
    "\n",
    "print(f'Parent 1: {p1}')\n",
    "print(f'Parent 2: {p2}')\n",
    "print(f'Child 1: {offspring[0]}')\n",
    "print(f'Child 2: {offspring[1]}')"
   ]
  },
  {
   "cell_type": "code",
   "execution_count": 2,
   "metadata": {},
   "outputs": [
    {
     "name": "stdout",
     "output_type": "stream",
     "text": [
      "Parent 1: [5, 3, 6, 2, 9, 4, 8, 7, 1]\n",
      "Parent 2: [9, 7, 4, 8, 6, 5, 2, 1, 3]\n",
      "Child 1: [9, 7, 6, 2, 4, 8, 1, 5, 3]\n",
      "Child 2: [5, 3, 4, 8, 6, 2, 1, 9, 7]\n"
     ]
    }
   ],
   "source": [
    "#order corossover\n",
    "from basic_function import crossover\n",
    "import random\n",
    "\n",
    "p1 = random.sample(range(1, 10), 9)\n",
    "p2 = random.sample(range(1, 10), 9)\n",
    "offspring = crossover.crossover_order(p1, p2)\n",
    "\n",
    "print(f'Parent 1: {p1}')\n",
    "print(f'Parent 2: {p2}')\n",
    "print(f'Child 1: {offspring[0]}')\n",
    "print(f'Child 2: {offspring[1]}')"
   ]
  },
  {
   "cell_type": "code",
   "execution_count": 4,
   "metadata": {},
   "outputs": [
    {
     "name": "stdout",
     "output_type": "stream",
     "text": [
      "P1: [1, 2, 3, 4, 5, 6, 7, 8, 9]\n",
      "P2: [4, 1, 2, 6, 5, 7, 9, 3, 8]\n",
      "C1: [1, 2, 3, 4, 5, 6, 7, 8, 9]\n",
      "C2: [4, 1, 2, 6, 5, 7, 9, 3, 8]\n"
     ]
    }
   ],
   "source": [
    "def cycle_crossover(p1, p2): # 함수생성\n",
    "    length = len(p1) # p1의 요소의 개수\n",
    "    c1, c2 = [None] * length, [None] * length # 자식 리스트 값 초기화 및 설정\n",
    "\n",
    "    visited = [False] * length  # 각 인덱스의 방문기록 리스트(true 와 false 로 이루어짐.) 설정\n",
    "    cycle = 0  # 사이클 순환 횟수를 저장하기 위해 지정\n",
    "\n",
    "    while not all(visited):\n",
    "\n",
    "        # 방문하지 않은 인덱스가 없을때까지 반복\n",
    "        start = visited.index(False) # 방문하지 않은 첫번째 인덱스를 찾기\n",
    "        current = start # 현재 탐색중인 인덱스\n",
    "\n",
    "        if cycle % 2 == 0:\n",
    "            # 사이클이 짝수일 때 방문한 p1의 값을 c1에, p2의 값을 c2에 복사\n",
    "            while True: # 루프시작\n",
    "                c1[current] = p1[current] # 현재 탐색중인 인덱스의 값을 p1 에서 c1로 복사\n",
    "                c2[current] = p2[current] # 현재 탐색중인 인덱스의 값을 p2 에서 c2로 복사\n",
    "                visited[current] = True # 현재 인덱스의 방문을 기록(중복탐색 방지)\n",
    "                current = p1.index(p2[current]) # p2[current]의 값이 p1에서 어디 있는지 찾기\n",
    "                if current == start: # 사이클이 한 바퀴를 돌면(시작지점으로 돌아오면)\n",
    "                    break# 루프를 종료\n",
    "        else:\n",
    "            # 사이클이 홀수일 때 방문한 p1의 값을 c2에, p2의 값을 c1에 저장\n",
    "            while True:# 루프시작\n",
    "                c1[current] = p2[current] # 현재 탐색중인 인덱스의 값을 p2 에서 c1로 복사\n",
    "                c2[current] = p1[current] # 현재 탐색중인 인덱스의 값을 p1 에서 c2로 복사\n",
    "                visited[current] = True # 현재 인덱스의 방문을 기록(중복탐색 방지)\n",
    "                current = p1.index(p2[current]) # p2[current]의 값이 p1에서 어디 있는지 찾기\n",
    "                if current == start: # 사이클이 한 바퀴를 돌면(시작지점으로 돌아오면)\n",
    "                    break # 루프를 종료\n",
    "\n",
    "        cycle += 1 # 사이클 카운트\n",
    "\n",
    "    return c1, c2\n",
    "\n",
    "#부모 값 설정\n",
    "p1 = [1, 2, 3, 4, 5, 6, 7, 8, 9]\n",
    "p2 = [4, 1, 2, 6, 5, 7, 9, 3, 8]\n",
    "\n",
    "offspring = cycle_crossover(p1, p2)\n",
    "\n",
    "print(f'P1: {p1}')\n",
    "print(f'P2: {p2}')\n",
    "print(f'C1: {offspring[0]}')\n",
    "print(f'C2: {offspring[1]}')\n"
   ]
  }
 ],
 "metadata": {
  "kernelspec": {
   "display_name": "Python 3",
   "language": "python",
   "name": "python3"
  },
  "language_info": {
   "codemirror_mode": {
    "name": "ipython",
    "version": 3
   },
   "file_extension": ".py",
   "mimetype": "text/x-python",
   "name": "python",
   "nbconvert_exporter": "python",
   "pygments_lexer": "ipython3",
   "version": "3.11.9"
  }
 },
 "nbformat": 4,
 "nbformat_minor": 2
}
