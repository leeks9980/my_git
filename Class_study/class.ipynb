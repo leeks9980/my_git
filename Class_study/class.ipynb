{
 "cells": [
  {
   "cell_type": "code",
   "execution_count": null,
   "id": "e2807107",
   "metadata": {},
   "outputs": [],
   "source": [
    "#클래스 선언 \n",
    "#지역, 전역, 클래스, 인스턴스 변수\n",
    "\n",
    "global_var = '이유찬' #전역 변수/모듈 전체에서 사용 가능\n",
    "class hello:\n",
    "    class_var = '황보선' #클래스 변수/클래스 내에서 사용 가능\n",
    "\n",
    "    def __init__(self):\n",
    "        self.instance_var = '이찬휘' #인스턴스 변수/ 같은 클레스 내부 인스턴스 내에서 사용 가능\n",
    "    \n",
    "    @classmethod\n",
    "    def set_class_var(cls, value):\n",
    "        cls.class_var = '여명구'  #클래스 변수 변경\n",
    "    \n",
    "    def method(self):\n",
    "        local_var = '한태희'  #지역변수 / 메서드 내에서만 사용가능\n",
    "        return local_var\n",
    "    \n",
    "    \n"
   ]
  },
  {
   "cell_type": "code",
   "execution_count": 18,
   "id": "21fabb84",
   "metadata": {},
   "outputs": [
    {
     "name": "stdout",
     "output_type": "stream",
     "text": [
      "이유찬\n",
      "황보선\n",
      "이찬휘\n",
      "한태희\n"
     ]
    }
   ],
   "source": [
    "#각 변수 출력\n",
    "print(global_var) #전역변수 출력\n",
    "print(hello.class_var) #클래스 변수 출력\n",
    "print(hello().instance_var) #인스턴스 변수 출력\n",
    "print(hello().method()) #지역변수 출력 "
   ]
  },
  {
   "cell_type": "markdown",
   "id": "8606b6c7",
   "metadata": {},
   "source": [
    "## __init __(초기화) 메서드 ##\n",
    "*사용 이유:\n",
    ">인스턴스를 만들자 마자 데이터 입력 가능\n",
    ">>사용자가 직접 호출 하지 않아도 실행됨\n",
    "\n",
    "주의:\n",
    ">self는 꼭 첫 번쨰 인자로 써야함"
   ]
  },
  {
   "cell_type": "code",
   "execution_count": 10,
   "id": "316ee3f8",
   "metadata": {},
   "outputs": [],
   "source": [
    "#__init__ 메서드\n",
    "class hello:  \n",
    "    def __init__(self):   #self는 인스턴스 자신을 의미\n",
    "        self.instance_var = '이찬휘' #인스턴스 변수"
   ]
  },
  {
   "cell_type": "code",
   "execution_count": null,
   "id": "9d7baa60",
   "metadata": {},
   "outputs": [
    {
     "name": "stdout",
     "output_type": "stream",
     "text": [
      "이찬휘\n"
     ]
    }
   ],
   "source": [
    "c1 = hello()  #클래스 호출\n",
    "print(c1.instance_var) #인스턴스 변수 출력"
   ]
  },
  {
   "cell_type": "markdown",
   "id": "06a6a5fe",
   "metadata": {},
   "source": [
    "## @classmethod\n",
    "클레스 자체에 대해 동작하는 메서드\n",
    "\n",
    "특징:\n",
    ">첫 번째 인자는 self가 아닌 cls임(cls란 클래스 자체를 가리킴)\n",
    ">>클래스 객체를 호출 가능\n",
    ">>>클래스 자체 수정\n",
    ">>>>인스턴스 생성 가능"
   ]
  },
  {
   "cell_type": "code",
   "execution_count": null,
   "id": "88dafcf6",
   "metadata": {},
   "outputs": [],
   "source": [
    "#클래스 자체 수정 예시\n",
    "class hello:\n",
    "    class_var = '황보선' #클래스 변수/클래스 내에서 사용 가능\n",
    "\n",
    "    def __init__(self):\n",
    "        self.instance_var = '이찬휘' #인스턴스 변수/ 같은 클레스 내부 인스턴스 내에서 사용 가능\n",
    "    \n",
    "    @classmethod\n",
    "    def set_class_var(cls, value):\n",
    "        cls.class_var = '여명구'  #클래스 변수 변경"
   ]
  },
  {
   "cell_type": "code",
   "execution_count": null,
   "id": "060aada5",
   "metadata": {},
   "outputs": [
    {
     "name": "stdout",
     "output_type": "stream",
     "text": [
      "나는 너 너는 나\n"
     ]
    }
   ],
   "source": [
    "#클래스 객체 호출 예시\n",
    "class hello:\n",
    "    @classmethod\n",
    "    def set_class_var(cls):\n",
    "        print('나는 너 너는 나') \n",
    "\n",
    "hello.set_class_var()"
   ]
  },
  {
   "cell_type": "code",
   "execution_count": null,
   "id": "8966b07e",
   "metadata": {},
   "outputs": [
    {
     "name": "stdout",
     "output_type": "stream",
     "text": [
      "이유찬\n"
     ]
    }
   ],
   "source": [
    "#인스턴스 생성하는 클래스 메서드 예시\n",
    "class hello:\n",
    "    def __init__(self, name):\n",
    "        self.nema = name\n",
    "    @classmethod\n",
    "    def set_class_var(cls):\n",
    "        return cls('이유찬')\n",
    "\n",
    "bye = hello.set_class_var()\n",
    "print(bye.nema)"
   ]
  },
  {
   "cell_type": "markdown",
   "id": "8d79d472",
   "metadata": {},
   "source": [
    "## @staticmethod\n",
    "정적 메서드 정의\n",
    "\n",
    "이 메서드는 클래스나 인스턴스와 관계없이 독립적으로 동작(단순 계산, 외부 도우미 함수)\n",
    "\n",
    "특징:\n",
    ">self, cls를 받지 않음\n",
    ">>클래스로 호출 가능\n",
    ">>>인스턴스로도 호출 가능"
   ]
  },
  {
   "cell_type": "code",
   "execution_count": null,
   "id": "0154ce9f",
   "metadata": {},
   "outputs": [
    {
     "name": "stdout",
     "output_type": "stream",
     "text": [
      "에스파\n"
     ]
    }
   ],
   "source": [
    "class hello:\n",
    "    @staticmethod\n",
    "    def set_class_var():\n",
    "        print('에스파')\n",
    "\n",
    "hello.set_class_var() #클래스 호출"
   ]
  },
  {
   "cell_type": "code",
   "execution_count": 30,
   "id": "f1bfd2ce",
   "metadata": {},
   "outputs": [
    {
     "name": "stdout",
     "output_type": "stream",
     "text": [
      "에스파\n"
     ]
    }
   ],
   "source": [
    "class hello:\n",
    "    @staticmethod\n",
    "    def set_class_var():\n",
    "        print('에스파')\n",
    "\n",
    "a = hello()\n",
    "a.set_class_var() #인스턴스 호출"
   ]
  }
 ],
 "metadata": {
  "kernelspec": {
   "display_name": "Python 3",
   "language": "python",
   "name": "python3"
  },
  "language_info": {
   "codemirror_mode": {
    "name": "ipython",
    "version": 3
   },
   "file_extension": ".py",
   "mimetype": "text/x-python",
   "name": "python",
   "nbconvert_exporter": "python",
   "pygments_lexer": "ipython3",
   "version": "3.11.9"
  }
 },
 "nbformat": 4,
 "nbformat_minor": 5
}
