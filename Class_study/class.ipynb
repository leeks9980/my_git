{
 "cells": [
  {
   "cell_type": "code",
   "execution_count": null,
   "id": "e2807107",
   "metadata": {},
   "outputs": [],
   "source": [
    "#클래스 선언 \n",
    "#지역, 전역, 클래스, 인스턴스 변수\n",
    "\n",
    "global_var = '이유찬' #전역 변수/모듈 전체에서 사용 가능\n",
    "class hello:\n",
    "    class_var = '황보선' #클래스 변수/클래스 내에서 사용 가능\n",
    "\n",
    "    def __init__(self):\n",
    "        self.instance_var = '이찬휘' #인스턴스 변수/ 같은 클레스 내부 인스턴스 내에서 사용 가능\n",
    "    \n",
    "    @classmethod\n",
    "    def set_class_var(cls, value):\n",
    "        cls.class_var = '여명구'  #클래스 변수 변경\n",
    "    \n",
    "    def method(self):\n",
    "        local_var = '한태희'  #지역변수 / 메서드 내에서만 사용가능\n",
    "        return local_var"
   ]
  },
  {
   "cell_type": "code",
   "execution_count": 18,
   "id": "21fabb84",
   "metadata": {},
   "outputs": [
    {
     "name": "stdout",
     "output_type": "stream",
     "text": [
      "이유찬\n",
      "황보선\n",
      "이찬휘\n",
      "한태희\n"
     ]
    }
   ],
   "source": [
    "#각 변수 출력\n",
    "print(global_var) #전역변수 출력\n",
    "print(hello.class_var) #클래스 변수 출력\n",
    "print(hello().instance_var) #인스턴스 변수 출력\n",
    "print(hello().method()) #지역변수 출력 "
   ]
  },
  {
   "cell_type": "markdown",
   "id": "8606b6c7",
   "metadata": {},
   "source": [
    "## __init __(초기화) 메서드 ##\n",
    "\n",
    "객체가 시작될떄 자동으로 실행\n",
    "\n",
    "*사용 이유:\n",
    ">인스턴스를 만들자 마자 데이터 입력 가능\n",
    ">>사용자가 직접 호출 하지 않아도 실행됨\n",
    "\n",
    "주의:\n",
    ">self는 꼭 첫 번쨰 인자로 써야함"
   ]
  },
  {
   "cell_type": "code",
   "execution_count": 10,
   "id": "316ee3f8",
   "metadata": {},
   "outputs": [],
   "source": [
    "#__init__ 메서드\n",
    "class hello:  \n",
    "    def __init__(self):   #self는 인스턴스 자신을 의미\n",
    "        self.instance_var = '이찬휘' #인스턴스 변수"
   ]
  },
  {
   "cell_type": "code",
   "execution_count": null,
   "id": "9d7baa60",
   "metadata": {},
   "outputs": [
    {
     "name": "stdout",
     "output_type": "stream",
     "text": [
      "이찬휘\n"
     ]
    }
   ],
   "source": [
    "c1 = hello()  #클래스 호출\n",
    "print(c1.instance_var) #인스턴스 변수 출력"
   ]
  },
  {
   "cell_type": "markdown",
   "id": "38ea7e06",
   "metadata": {},
   "source": [
    "# __del __ 소멸자(destuctor)\n",
    "\n",
    "객체가 소멸될 떄(메모리에서 해제될때) 자동으로 실행\n",
    "\n",
    "사용 목적:\n",
    ">리소스 정리\n",
    ">>네트워크 연결 종료\n",
    ">>>임시 데이터 삭제\n",
    "\n",
    "주의:\n",
    ">호출 시점이 불확실\n",
    ">> 두 객체가 서로 참조하면 참조수가 0이 되지 않아 __del__이 호출 되지 않음\n",
    ">>>__del__내부에서 에러가 발생해도 무시됨, 에러 메시지도 보이지 않음(디버깅 어려움)\n"
   ]
  },
  {
   "cell_type": "code",
   "execution_count": null,
   "id": "0f11ec64",
   "metadata": {},
   "outputs": [],
   "source": [
    "class class_1:\n",
    "    def __init__(self, filename):\n",
    "        self.file = open(filename, 'w') #파일 열기\n",
    "    \n",
    "    def __del__(self):   #소멸자 메서드\n",
    "        self.file.close()  #만약 이부분에서 파일 닫는 중 에러가 발생해도 넘아감(파일은 그대로 동작중)\n",
    "        print('파일 닫기')   "
   ]
  },
  {
   "cell_type": "markdown",
   "id": "1a4288fb",
   "metadata": {},
   "source": [
    "# __repr __\n",
    "\n",
    "객체를 문자열로 표현할 떄 사용되는 메서드\n",
    "\n",
    "사용 목적:\n",
    ">공식적인 문장열 표현\n",
    ">>디버깅하기 쉬움\n"
   ]
  },
  {
   "cell_type": "code",
   "execution_count": 9,
   "id": "f74caed9",
   "metadata": {},
   "outputs": [
    {
     "data": {
      "text/plain": [
       "<__main__.Student at 0x2c3fbad2b90>"
      ]
     },
     "execution_count": 9,
     "metadata": {},
     "output_type": "execute_result"
    }
   ],
   "source": [
    "class Student:\n",
    "    def __init__(self, name, age):\n",
    "        self.name = name\n",
    "        self.age = age\n",
    "    \n",
    "    def print_1(self):\n",
    "        return f'이름: {self.name}, 나이: {self.age}'\n",
    "    \n",
    "Student('장범준', 20)"
   ]
  },
  {
   "cell_type": "code",
   "execution_count": null,
   "id": "3cc82a87",
   "metadata": {},
   "outputs": [
    {
     "data": {
      "text/plain": [
       "이름: Jane, 나이: 20"
      ]
     },
     "execution_count": 6,
     "metadata": {},
     "output_type": "execute_result"
    }
   ],
   "source": [
    "class Student:\n",
    "    def __init__(self, name, age):\n",
    "        self.name = name\n",
    "        self.age = age\n",
    "\n",
    "    def __repr__(self):\n",
    "        return f'이름: {self.name}, 나이: {self.age}'\n",
    "\n",
    "Student('장범준', 20)"
   ]
  },
  {
   "cell_type": "markdown",
   "id": "cd5115f4",
   "metadata": {},
   "source": [
    "# __str __ \n",
    "\n",
    "사람들이 보기 쉬운 문자열로 표헌 할때  \n",
    "__repr __과 유사해 보이지만 약간은 다름\n",
    "\n",
    "일반 def문에서 return으로 받는 값으로 출력 하는것과 매우 유사하나  \n",
    "__str__을 사용하면 클래스만 호출 해도 사용 가능\n",
    "\n",
    "\n",
    "__repr __ 과 __str__의 차이\n",
    "|__str __|__repr __|\n",
    "|---------|--------|\n",
    "|사용자에게 보기 좋게|디버깅 용도|\n",
    "|print(),str()에서 사용| 인터프리터에서 바로|"
   ]
  },
  {
   "cell_type": "code",
   "execution_count": 17,
   "id": "9c617b56",
   "metadata": {},
   "outputs": [
    {
     "name": "stdout",
     "output_type": "stream",
     "text": [
      "이름: 비비, 나이: 25\n"
     ]
    },
    {
     "data": {
      "text/plain": [
       "'이름: 비비, 나이: 25'"
      ]
     },
     "execution_count": 17,
     "metadata": {},
     "output_type": "execute_result"
    }
   ],
   "source": [
    "class class_1:\n",
    "    def __init__(self, name, age):\n",
    "        self.name = name\n",
    "        self.age = age\n",
    "    \n",
    "    def __str__(self):  #문자열로 변환\n",
    "        return f'이름: {self.name}, 나이: {self.age}'\n",
    "\n",
    "print(class_1('비비', 25))\n",
    "str(class_1('비비', 25)) #일반적으로 메서드를 호출 하는 방식이 아닌 클래만 호출해도 출력됨"
   ]
  },
  {
   "cell_type": "markdown",
   "id": "06a6a5fe",
   "metadata": {},
   "source": [
    "## @classmethod\n",
    "클레스 자체에 대해 동작하는 메서드\n",
    "\n",
    "특징:\n",
    ">첫 번째 인자는 self가 아닌 cls임(cls란 클래스 자체를 가리킴)\n",
    ">>클래스 객체를 호출 가능\n",
    ">>>클래스 자체 수정\n",
    ">>>>인스턴스 생성 가능"
   ]
  },
  {
   "cell_type": "code",
   "execution_count": 10,
   "id": "88dafcf6",
   "metadata": {},
   "outputs": [],
   "source": [
    "#클래스 자체 수정 예시\n",
    "class hello:\n",
    "    class_var = '황보선' #클래스 변수/클래스 내에서 사용 가능\n",
    "\n",
    "    def __init__(self):\n",
    "        self.instance_var = '이찬휘' #인스턴스 변수/ 같은 클레스 내부 인스턴스 내에서 사용 가능\n",
    "    \n",
    "    @classmethod\n",
    "    def set_class_var(cls):\n",
    "        cls.class_var = '여명구'  #클래스 변수 변경"
   ]
  },
  {
   "cell_type": "code",
   "execution_count": 9,
   "id": "060aada5",
   "metadata": {},
   "outputs": [
    {
     "name": "stdout",
     "output_type": "stream",
     "text": [
      "나는 너 너는 나\n"
     ]
    }
   ],
   "source": [
    "#클래스 객체 호출 예시\n",
    "class hello:\n",
    "    @classmethod\n",
    "    def set_class_var(cls):\n",
    "        print('나는 너 너는 나') \n",
    "\n",
    "hello.set_class_var()"
   ]
  },
  {
   "cell_type": "code",
   "execution_count": null,
   "id": "8966b07e",
   "metadata": {},
   "outputs": [
    {
     "name": "stdout",
     "output_type": "stream",
     "text": [
      "이유찬\n"
     ]
    }
   ],
   "source": [
    "#인스턴스 생성하는 클래스 메서드 예시\n",
    "class hello:\n",
    "    def __init__(self, name):\n",
    "        self.nema = name\n",
    "    @classmethod\n",
    "    def set_class_var(cls):\n",
    "        return cls('이유찬')\n",
    "\n",
    "bye = hello.set_class_var()\n",
    "print(bye.nema)"
   ]
  },
  {
   "cell_type": "markdown",
   "id": "8d79d472",
   "metadata": {},
   "source": [
    "## @staticmethod\n",
    "정적 메서드 정의\n",
    "\n",
    "이 메서드는 클래스나 인스턴스와 관계없이 독립적으로 동작(단순 계산, 외부 도우미 함수)\n",
    "\n",
    "특징:\n",
    ">self, cls를 받지 않음\n",
    ">>클래스로 호출 가능\n",
    ">>>인스턴스로도 호출 가능"
   ]
  },
  {
   "cell_type": "code",
   "execution_count": null,
   "id": "0154ce9f",
   "metadata": {},
   "outputs": [
    {
     "name": "stdout",
     "output_type": "stream",
     "text": [
      "에스파\n"
     ]
    }
   ],
   "source": [
    "class hello:\n",
    "    @staticmethod\n",
    "    def set_class_var():\n",
    "        print('에스파')\n",
    "\n",
    "hello.set_class_var() #클래스 호출"
   ]
  },
  {
   "cell_type": "code",
   "execution_count": 35,
   "id": "f1bfd2ce",
   "metadata": {},
   "outputs": [
    {
     "name": "stdout",
     "output_type": "stream",
     "text": [
      "에스파\n"
     ]
    }
   ],
   "source": [
    "class hello:\n",
    "    @staticmethod\n",
    "    def set_class_var():\n",
    "        print('에스파')\n",
    "\n",
    "a = hello()\n",
    "a.set_class_var() #인스턴스 호출"
   ]
  },
  {
   "cell_type": "markdown",
   "id": "9cdd0bf1",
   "metadata": {},
   "source": [
    "## 상속  \n",
    "정의\n",
    ">기존 클래스의 속성과 메서드를 새로운 클래스가 사용할수있게 해줌  \n",
    "\n",
    "사용 이유\n",
    ">코드 재사용  \n",
    ">>유지 보수 용이  \n",
    ">>>확장성"
   ]
  },
  {
   "cell_type": "code",
   "execution_count": null,
   "id": "a50b9957",
   "metadata": {},
   "outputs": [
    {
     "name": "stdout",
     "output_type": "stream",
     "text": [
      "헤이즈\n"
     ]
    }
   ],
   "source": [
    "class hello:  #기존 클래스\n",
    "    def __init__(self):\n",
    "        self.name = '헤이즈' #인스턴스 변수\n",
    "\n",
    "class bye(hello): # 새로운 클래스\n",
    "    def method_1(self):\n",
    "        print(self.name)  # 상속 받은 값\n",
    "\n",
    "c1 = bye()\n",
    "c1.method_1() #상속된 메서드 호출"
   ]
  },
  {
   "cell_type": "markdown",
   "id": "4a4c43ba",
   "metadata": {},
   "source": [
    "## super()\n",
    "\n",
    "- super()는 기존 클래스의 메서드를 호출하기 위해 사용\n",
    "\n",
    "\"기존 클래스명.메서드\" 와 super()를 통해 메서드를 호출 할떄의 차이점\n",
    ">기존 클래스명이 변경 되도 코드를 따로 수정 하지 않아도 됨\n",
    ">>다중 상속에서 super()가 없으면 메서드가 중복으로 호출 됨"
   ]
  },
  {
   "cell_type": "code",
   "execution_count": 77,
   "id": "51bf6acc",
   "metadata": {},
   "outputs": [
    {
     "name": "stdout",
     "output_type": "stream",
     "text": [
      "상상용\n"
     ]
    }
   ],
   "source": [
    "#super() 메서드 예시\n",
    "class p_class:  #기존 클래스\n",
    "    def method_1(self, name):\n",
    "        self.name = name \n",
    "\n",
    "class c_class(p_class): # 새로운 클래스\n",
    "    def method_2(self, name_1):\n",
    "        super().method_1(name_1)   #super() 메서드 사용해 기존 클래스의 메서드 불러오기\n",
    "        print(self.name)\n",
    "\n",
    "c1 = c_class()\n",
    "c1.method_2('상상용') #상속된 메서드 호출"
   ]
  },
  {
   "cell_type": "code",
   "execution_count": 76,
   "id": "3093baef",
   "metadata": {},
   "outputs": [
    {
     "name": "stdout",
     "output_type": "stream",
     "text": [
      "d\n",
      "B\n",
      "c\n",
      "A\n"
     ]
    }
   ],
   "source": [
    "#다중 상속(super() 메서드 사용)\n",
    "class class_1:  \n",
    "    def method(self):\n",
    "        print('A')\n",
    "\n",
    "class class_2(class_1):  \n",
    "    def method(self):\n",
    "        print('B')\n",
    "        super().method()\n",
    "\n",
    "class class_3(class_1):  \n",
    "    def method(self):\n",
    "        print('c')\n",
    "        super().method()\n",
    "\n",
    "class class_4(class_2,class_3):  \n",
    "    def method(self):\n",
    "        print('d')\n",
    "        super().method()\n",
    "\n",
    "play = class_4()\n",
    "play.method()\n"
   ]
  },
  {
   "cell_type": "code",
   "execution_count": null,
   "id": "1c229ce5",
   "metadata": {},
   "outputs": [
    {
     "name": "stdout",
     "output_type": "stream",
     "text": [
      "d\n",
      "B\n",
      "A\n",
      "c\n",
      "A\n"
     ]
    }
   ],
   "source": [
    "#다중 상속(super() 메서드 미미사용)\n",
    "class class_1:  \n",
    "    def method(self):\n",
    "        print('A')\n",
    "\n",
    "class class_2(class_1):  \n",
    "    def method(self):\n",
    "        print('B')\n",
    "        class_1.method(self)\n",
    "\n",
    "class class_3(class_1):  \n",
    "    def method(self):\n",
    "        print('c')\n",
    "        class_1.method(self)\n",
    "\n",
    "class class_4(class_2,class_3):  \n",
    "    def method(self):\n",
    "        print('d')\n",
    "        class_2.method(self)\n",
    "        class_3.method(self)  \n",
    "\n",
    "play = class_4()\n",
    "play.method()  #결과값에 중복이 있음"
   ]
  },
  {
   "cell_type": "markdown",
   "id": "df100efd",
   "metadata": {},
   "source": [
    "# 연산자 오버로딩\n",
    "\n",
    "클래스에 대해 연산자를 정의할떄 사용"
   ]
  },
  {
   "cell_type": "code",
   "execution_count": 84,
   "id": "33552f95",
   "metadata": {},
   "outputs": [
    {
     "name": "stdout",
     "output_type": "stream",
     "text": [
      "Vector(5, 7)\n",
      "Vector(7, 10)\n"
     ]
    }
   ],
   "source": [
    "class Vector:\n",
    "    def __init__(self, x, y):\n",
    "        self.x = x\n",
    "        self.y = y\n",
    "\n",
    "    # + 연산자 오버로딩\n",
    "    def __add__(self, other):\n",
    "        return Vector(self.x + other.x, self.y + other.y)\n",
    "\n",
    "    def __repr__(self):\n",
    "        return f\"Vector({self.x}, {self.y})\"\n",
    "\n",
    "v1 = Vector(2, 3)\n",
    "v2 = Vector(5, 7)\n",
    "print(v2)\n",
    "print(v1 + v2)  # Vector(7, 10)\n"
   ]
  },
  {
   "cell_type": "code",
   "execution_count": null,
   "id": "474b25e0",
   "metadata": {},
   "outputs": [
    {
     "name": "stdout",
     "output_type": "stream",
     "text": [
      "<function a at 0x0000020349B78AE0>\n"
     ]
    }
   ],
   "source": []
  }
 ],
 "metadata": {
  "kernelspec": {
   "display_name": "Python 3",
   "language": "python",
   "name": "python3"
  },
  "language_info": {
   "codemirror_mode": {
    "name": "ipython",
    "version": 3
   },
   "file_extension": ".py",
   "mimetype": "text/x-python",
   "name": "python",
   "nbconvert_exporter": "python",
   "pygments_lexer": "ipython3",
   "version": "3.11.9"
  }
 },
 "nbformat": 4,
 "nbformat_minor": 5
}
