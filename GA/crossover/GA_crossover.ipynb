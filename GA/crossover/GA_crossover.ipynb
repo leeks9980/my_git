{
 "cells": [
  {
   "cell_type": "code",
   "execution_count": 43,
   "metadata": {},
   "outputs": [],
   "source": [
    "def crossover_one_point(p1, p2):\n",
    "        point = random.randint(1, len(p1) - 1)\n",
    "        c1, c2 = copy.deepcopy(p1), copy.deepcopy(p2)\n",
    "        c1[point:], c2[point:] = p2[point:], p1[point:]\n",
    "        return [c1, c2]\n"
   ]
  },
  {
   "cell_type": "code",
   "execution_count": 61,
   "metadata": {},
   "outputs": [
    {
     "ename": "ImportError",
     "evalue": "cannot import name 'crossover' from 'basic_function' (c:\\Users\\leeks\\my_git\\GA\\crossover\\basic_function.py)",
     "output_type": "error",
     "traceback": [
      "\u001b[31m---------------------------------------------------------------------------\u001b[39m",
      "\u001b[31mImportError\u001b[39m                               Traceback (most recent call last)",
      "\u001b[36mCell\u001b[39m\u001b[36m \u001b[39m\u001b[32mIn[61]\u001b[39m\u001b[32m, line 1\u001b[39m\n\u001b[32m----> \u001b[39m\u001b[32m1\u001b[39m \u001b[38;5;28;01mfrom\u001b[39;00m\u001b[38;5;250m \u001b[39m\u001b[34;01mbasic_function\u001b[39;00m\u001b[38;5;250m \u001b[39m\u001b[38;5;28;01mimport\u001b[39;00m crossover \n\u001b[32m      2\u001b[39m \u001b[38;5;28;01mimport\u001b[39;00m\u001b[38;5;250m \u001b[39m\u001b[34;01mrandom\u001b[39;00m\n\u001b[32m      3\u001b[39m p1 = [random.randint(\u001b[32m0\u001b[39m, \u001b[32m9\u001b[39m) \u001b[38;5;28;01mfor\u001b[39;00m _ \u001b[38;5;129;01min\u001b[39;00m \u001b[38;5;28mrange\u001b[39m(\u001b[32m5\u001b[39m)]\n",
      "\u001b[31mImportError\u001b[39m: cannot import name 'crossover' from 'basic_function' (c:\\Users\\leeks\\my_git\\GA\\crossover\\basic_function.py)"
     ]
    }
   ],
   "source": [
    "from basic_function import crossover \n",
    "import random\n",
    "p1 = [random.randint(0, 9) for _ in range(5)]\n",
    "p2 = [random.randint(0, 9) for _ in range(5)]\n",
    "offspring = crossover.crossover_one_point(p1, p2)\n",
    "print(f'Parent 1: {p1}')\n",
    "print(f'Parent 2: {p2}')\n",
    "print(f'Child 1: {offspring[0]}')\n",
    "print(f'Child 2: {offspring[1]}')"
   ]
  }
 ],
 "metadata": {
  "kernelspec": {
   "display_name": "Python 3",
   "language": "python",
   "name": "python3"
  },
  "language_info": {
   "codemirror_mode": {
    "name": "ipython",
    "version": 3
   },
   "file_extension": ".py",
   "mimetype": "text/x-python",
   "name": "python",
   "nbconvert_exporter": "python",
   "pygments_lexer": "ipython3",
   "version": "3.11.9"
  }
 },
 "nbformat": 4,
 "nbformat_minor": 2
}
