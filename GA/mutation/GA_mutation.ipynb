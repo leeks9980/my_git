{
 "cells": [
  {
   "cell_type": "code",
   "execution_count": 1,
   "metadata": {},
   "outputs": [],
   "source": [
    "#라이브러리 추가 부분\n",
    "import mutation_Basic_functions as mbf\n",
    "import random\n",
    "import math as mt "
   ]
  },
  {
   "cell_type": "code",
   "execution_count": 2,
   "metadata": {},
   "outputs": [
    {
     "name": "stdout",
     "output_type": "stream",
     "text": [
      "Original: [6.375722418996438, 2.500087515241265]\n",
      "Mutated: [6.949694760588934, 3.233844157804448]\n"
     ]
    }
   ],
   "source": [
    "# Random deviation mutation(무작위 편차 돌연변이)\n",
    "ind = [random.uniform(0, 10) for _ in range(2)] #개체의 유전자 설정\n",
    "\n",
    "mut = mbf.mutation_random_deviation(ind, 0, 1, 0.3) #(개체, 정규분포 평균, 정규분포 표준편차,돌연변이 확률)\n",
    "\n",
    "print(f'Original: {ind}')\n",
    "print(f'Mutated: {mut}')"
   ]
  },
  {
   "cell_type": "code",
   "execution_count": 3,
   "metadata": {},
   "outputs": [
    {
     "name": "stdout",
     "output_type": "stream",
     "text": [
      "Original: [1, 2, 3, 4, 5, 6]\n",
      "Mutated: [1, 5, 3, 4, 2, 6]\n"
     ]
    }
   ],
   "source": [
    "#Exchange mutation(교차 돌연 변이)\n",
    "random.seed(1)\n",
    "ind = list(range(1, 7))\n",
    "\n",
    "mut = mbf.mutation_exchange(ind)\n",
    "\n",
    "print(f'Original: {ind}')\n",
    "print(f'Mutated: {mut}')"
   ]
  },
  {
   "cell_type": "code",
   "execution_count": 4,
   "metadata": {},
   "outputs": [
    {
     "name": "stdout",
     "output_type": "stream",
     "text": [
      "Original: [1, 2, 3, 4, 5]\n",
      "Mutated: [2, 1, 3, 4, 5]\n"
     ]
    }
   ],
   "source": [
    "#shift mutation\n",
    "random.seed(1)\n",
    "ind = list(range(1, 6))\n",
    "\n",
    "mut = mbf.mutation_shift(ind)\n",
    "\n",
    "print(f'Original: {ind}')\n",
    "print(f'Mutated: {mut}')"
   ]
  },
  {
   "cell_type": "code",
   "execution_count": 5,
   "metadata": {},
   "outputs": [
    {
     "name": "stdout",
     "output_type": "stream",
     "text": [
      "3\n",
      "0\n",
      "1\n",
      "Original: [0, 0, 1, 0, 1]\n",
      "Mutated: [0, 0, 1, 1, 1]\n"
     ]
    }
   ],
   "source": [
    "#bit flip mutation\n",
    "random.seed(1)\n",
    "ind = [random.randint(0, 1) for _ in range(0, 5)]\n",
    "\n",
    "mut = mbf.mutation_bit_flip(ind)\n",
    "\n",
    "print(f'Original: {ind}')\n",
    "print(f'Mutated: {mut}')"
   ]
  }
 ],
 "metadata": {
  "kernelspec": {
   "display_name": "Python 3",
   "language": "python",
   "name": "python3"
  },
  "language_info": {
   "codemirror_mode": {
    "name": "ipython",
    "version": 3
   },
   "file_extension": ".py",
   "mimetype": "text/x-python",
   "name": "python",
   "nbconvert_exporter": "python",
   "pygments_lexer": "ipython3",
   "version": "3.11.9"
  }
 },
 "nbformat": 4,
 "nbformat_minor": 2
}
